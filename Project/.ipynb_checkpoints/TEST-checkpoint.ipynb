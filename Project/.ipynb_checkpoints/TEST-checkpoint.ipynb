{
 "cells": [
  {
   "cell_type": "code",
   "execution_count": 1,
   "metadata": {},
   "outputs": [],
   "source": [
    "import os\n",
    "import numpy as np\n",
    "\n",
    "SAMPLE_1 = [os.path.join('out', 'correct_1.txt'), os.path.join('out', 'original_1.txt')]\n",
    "SAMPLE_2 = [os.path.join('out', 'correct_2.txt'), os.path.join('out', 'original_2.txt')]"
   ]
  },
  {
   "cell_type": "code",
   "execution_count": 2,
   "metadata": {},
   "outputs": [],
   "source": [
    "from collections import Counter\n",
    "from sklearn.feature_extraction.text import CountVectorizer\n",
    "from sklearn.metrics.pairwise import cosine_similarity\n",
    "\n",
    "def get_cosine_sim(query, document): \n",
    "    text = [query, document]\n",
    "    count_vec = CountVectorizer()\n",
    "    count_vec.fit(text)\n",
    "    arr = count_vec.transform(text).toarray()\n",
    "    vector1, vector2 = arr\n",
    "    return cosine_similarity(np.array([vector1]), np.array([vector2]))[0][0]\n",
    "\n",
    "def get_jaccard_sim(query, document):\n",
    "    query = query.split()\n",
    "    document = document.split()\n",
    "    intersection = set(query).intersection(set(document))\n",
    "    union = set(query).union(set(document))\n",
    "    if len(union) == 0:\n",
    "        print('No similar words')\n",
    "        return 0\n",
    "    return len(intersection)/len(union)\n",
    "\n",
    "def get_levenshtein_sim(query, document):\n",
    "    size_x = len(query) + 1\n",
    "    size_y = len(document) + 1\n",
    "    matrix = np.zeros((size_x, size_y), dtype=int)\n",
    "    for x in range(size_x):\n",
    "        matrix [x, 0] = x\n",
    "    for y in range(size_y):\n",
    "        matrix [0, y] = y\n",
    "\n",
    "    for x in range(1, size_x):\n",
    "        for y in range(1, size_y):\n",
    "            if query[x-1] == document[y-1]:\n",
    "                matrix [x,y] = min(\n",
    "                    matrix[x-1, y] + 1,\n",
    "                    matrix[x-1, y-1],\n",
    "                    matrix[x, y-1] + 1\n",
    "                )\n",
    "            else:\n",
    "                matrix [x,y] = min(\n",
    "                    matrix[x-1, y] + 1,\n",
    "                    matrix[x-1, y-1] + 1,\n",
    "                    matrix[x, y-1] + 1\n",
    "                )\n",
    "#     print (matrix)\n",
    "    distance =  matrix[size_x - 1, size_y - 1]\n",
    "    return (size_x + size_y - distance) / (size_x + size_y)"
   ]
  },
  {
   "cell_type": "code",
   "execution_count": 3,
   "metadata": {},
   "outputs": [
    {
     "name": "stdout",
     "output_type": "stream",
     "text": [
      "[Sample01]:\n",
      "Jaccard Similarity: 0.5263157894736842\n",
      "Cosine Similarity: 0.8512055557875504\n",
      "Levenshtein Similarity: 0.6825595984943539\n",
      "\n",
      "[Sample02]:\n",
      "Jaccard Similarity: 0.031914893617021274\n",
      "Cosine Similarity: 0.21698151830137313\n",
      "Levenshtein Similarity: 0.06382978723404255\n"
     ]
    }
   ],
   "source": [
    "print(\"[Sample01]:\")\n",
    "with open(SAMPLE_1[0], 'r') as file1:\n",
    "    with open(SAMPLE_1[1], 'r') as file2:\n",
    "        file1_txt = file1.read()\n",
    "#         print(len(file1_txt.split()))\n",
    "        file2_txt = file2.read()\n",
    "        print(f\"Jaccard Similarity: {get_jaccard_sim(file2_txt, file1_txt)}\")\n",
    "        print(f\"Cosine Similarity: {get_cosine_sim(file2_txt, file1_txt)}\")\n",
    "        print(f\"Levenshtein Similarity: {get_levenshtein_sim(file2_txt, file1_txt)}\")\n",
    "        \n",
    "print(\"\\n[Sample02]:\")\n",
    "with open(SAMPLE_2[0], 'r') as file1:\n",
    "    with open(SAMPLE_2[1], 'r') as file2:\n",
    "        file1_txt = file1.read()\n",
    "#         print(len(file1_txt.split()))\n",
    "        file2_txt = file2.read()\n",
    "        print(f\"Jaccard Similarity: {get_jaccard_sim(file2_txt, file1_txt)}\")\n",
    "        print(f\"Cosine Similarity: {get_cosine_sim(file2_txt, file1_txt)}\")\n",
    "        print(f\"Levenshtein Similarity: {get_levenshtein_sim(file2_txt, file1_txt)}\")"
   ]
  },
  {
   "cell_type": "code",
   "execution_count": null,
   "metadata": {},
   "outputs": [],
   "source": []
  }
 ],
 "metadata": {
  "kernelspec": {
   "display_name": "Python [conda env:cvproject]",
   "language": "python",
   "name": "conda-env-cvproject-py"
  },
  "language_info": {
   "codemirror_mode": {
    "name": "ipython",
    "version": 3
   },
   "file_extension": ".py",
   "mimetype": "text/x-python",
   "name": "python",
   "nbconvert_exporter": "python",
   "pygments_lexer": "ipython3",
   "version": "3.6.11"
  }
 },
 "nbformat": 4,
 "nbformat_minor": 4
}
